{
 "cells": [
  {
   "cell_type": "code",
   "execution_count": 1,
   "id": "6d28014d",
   "metadata": {},
   "outputs": [],
   "source": [
    "import gradio as gr"
   ]
  },
  {
   "cell_type": "markdown",
   "id": "072ae4fd",
   "metadata": {},
   "source": [
    "### Text "
   ]
  },
  {
   "cell_type": "code",
   "execution_count": 2,
   "id": "bc037e60",
   "metadata": {},
   "outputs": [],
   "source": [
    "def hello_world(name):\n",
    "    return \"Hello....\"+ name + \"!\""
   ]
  },
  {
   "cell_type": "code",
   "execution_count": 3,
   "id": "af202832",
   "metadata": {},
   "outputs": [
    {
     "data": {
      "text/plain": [
       "'Hello....umair!'"
      ]
     },
     "execution_count": 3,
     "metadata": {},
     "output_type": "execute_result"
    }
   ],
   "source": [
    "hello_world(\"umair\")"
   ]
  },
  {
   "cell_type": "code",
   "execution_count": 4,
   "id": "ed51cd8f",
   "metadata": {},
   "outputs": [],
   "source": [
    "interface = gr.Interface(fn=hello_world,inputs=\"text\",outputs=\"text\")"
   ]
  },
  {
   "cell_type": "code",
   "execution_count": 5,
   "id": "15e75cd5",
   "metadata": {},
   "outputs": [
    {
     "name": "stdout",
     "output_type": "stream",
     "text": [
      "Running on local URL:  http://127.0.0.1:7860\n",
      "\n",
      "To create a public link, set `share=True` in `launch()`.\n"
     ]
    },
    {
     "data": {
      "text/html": [
       "<div><iframe src=\"http://127.0.0.1:7860/\" width=\"100%\" height=\"500\" allow=\"autoplay; camera; microphone; clipboard-read; clipboard-write;\" frameborder=\"0\" allowfullscreen></iframe></div>"
      ],
      "text/plain": [
       "<IPython.core.display.HTML object>"
      ]
     },
     "metadata": {},
     "output_type": "display_data"
    },
    {
     "data": {
      "text/plain": []
     },
     "execution_count": 5,
     "metadata": {},
     "output_type": "execute_result"
    }
   ],
   "source": [
    "interface.launch()\n",
    "# to create public url, pass share = True as argument"
   ]
  },
  {
   "cell_type": "markdown",
   "id": "4f3d7b50",
   "metadata": {},
   "source": [
    "### Textbox"
   ]
  },
  {
   "cell_type": "code",
   "execution_count": 6,
   "id": "d203bcd9",
   "metadata": {},
   "outputs": [],
   "source": [
    "interface = gr.Interface(fn=hello_world,inputs=gr.Textbox(lines=3,placeholder=\"Enter your name here...\"),outputs=\"text\")"
   ]
  },
  {
   "cell_type": "code",
   "execution_count": 7,
   "id": "ae180ae8",
   "metadata": {},
   "outputs": [
    {
     "name": "stdout",
     "output_type": "stream",
     "text": [
      "Running on local URL:  http://127.0.0.1:7861\n",
      "\n",
      "To create a public link, set `share=True` in `launch()`.\n"
     ]
    },
    {
     "data": {
      "text/html": [
       "<div><iframe src=\"http://127.0.0.1:7861/\" width=\"100%\" height=\"500\" allow=\"autoplay; camera; microphone; clipboard-read; clipboard-write;\" frameborder=\"0\" allowfullscreen></iframe></div>"
      ],
      "text/plain": [
       "<IPython.core.display.HTML object>"
      ]
     },
     "metadata": {},
     "output_type": "display_data"
    },
    {
     "data": {
      "text/plain": []
     },
     "execution_count": 7,
     "metadata": {},
     "output_type": "execute_result"
    }
   ],
   "source": [
    "interface.launch()"
   ]
  },
  {
   "cell_type": "markdown",
   "id": "86587383",
   "metadata": {},
   "source": [
    "### Image"
   ]
  },
  {
   "cell_type": "code",
   "execution_count": 8,
   "id": "26429eee",
   "metadata": {},
   "outputs": [
    {
     "name": "stdout",
     "output_type": "stream",
     "text": [
      "Running on local URL:  http://127.0.0.1:7862\n",
      "\n",
      "To create a public link, set `share=True` in `launch()`.\n"
     ]
    },
    {
     "data": {
      "text/html": [
       "<div><iframe src=\"http://127.0.0.1:7862/\" width=\"100%\" height=\"500\" allow=\"autoplay; camera; microphone; clipboard-read; clipboard-write;\" frameborder=\"0\" allowfullscreen></iframe></div>"
      ],
      "text/plain": [
       "<IPython.core.display.HTML object>"
      ]
     },
     "metadata": {},
     "output_type": "display_data"
    }
   ],
   "source": [
    "import numpy as np \n",
    "def sepia(input_img):\n",
    "    sepia_filter = np.array([\n",
    "        [0.393, 0.769, 0.189],\n",
    "        [0.349, 0.686, 0.168],\n",
    "        [0.272, 0.534, 0.131]\n",
    "    ])\n",
    "    sepia_img = input_img.dot(sepia_filter.T)\n",
    "    sepia_img /= sepia_img.max()\n",
    "    return sepia_img\n",
    "\n",
    "demo = gr.Interface(sepia, gr.Image(), \"image\")\n",
    "if __name__ == \"__main__\":\n",
    "    demo.launch()"
   ]
  },
  {
   "cell_type": "markdown",
   "id": "b0c5741c",
   "metadata": {},
   "source": [
    "### Tabular "
   ]
  },
  {
   "cell_type": "code",
   "execution_count": 9,
   "id": "cb975075",
   "metadata": {},
   "outputs": [
    {
     "name": "stdout",
     "output_type": "stream",
     "text": [
      "Running on local URL:  http://127.0.0.1:7863\n",
      "\n",
      "To create a public link, set `share=True` in `launch()`.\n"
     ]
    },
    {
     "data": {
      "text/html": [
       "<div><iframe src=\"http://127.0.0.1:7863/\" width=\"100%\" height=\"500\" allow=\"autoplay; camera; microphone; clipboard-read; clipboard-write;\" frameborder=\"0\" allowfullscreen></iframe></div>"
      ],
      "text/plain": [
       "<IPython.core.display.HTML object>"
      ]
     },
     "metadata": {},
     "output_type": "display_data"
    },
    {
     "data": {
      "text/plain": []
     },
     "execution_count": 9,
     "metadata": {},
     "output_type": "execute_result"
    }
   ],
   "source": [
    "import gradio as gr\n",
    "\n",
    "def tax_calculator(income, marital_status, assets):\n",
    "    tax_brackets = [(10, 0), (25, 8), (60, 12), (120, 20), (250, 30)]\n",
    "    total_deductible = sum(int(x) for x in assets.iloc[:,1])\n",
    "    taxable_income = income - total_deductible\n",
    "\n",
    "    total_tax = 0\n",
    "    for bracket, rate in tax_brackets:\n",
    "        if taxable_income > bracket:\n",
    "            total_tax += (taxable_income - bracket) * rate / 100\n",
    "\n",
    "    if marital_status == \"Married\":\n",
    "        total_tax *= 0.75\n",
    "    elif marital_status == \"Divorced\":\n",
    "        total_tax *= 0.8\n",
    "\n",
    "    return round(total_tax)\n",
    "\n",
    "demo = gr.Interface(\n",
    "    tax_calculator,\n",
    "    [\n",
    "        \"number\",\n",
    "        gr.Radio([\"Single\", \"Married\", \"Divorced\"]),\n",
    "        gr.Dataframe(\n",
    "            headers=[\"Item\", \"Cost\"],\n",
    "            datatype=[\"str\", \"number\"],\n",
    "            label=\"Assets Purchased this Year\",\n",
    "        ),\n",
    "    ],\n",
    "    \"number\",\n",
    "    examples=[\n",
    "        [10000, \"Married\", [[\"Suit\", 5000], [\"Laptop\", 800], [\"Car\", 1800]]],\n",
    "        [80000, \"Single\", [[\"Suit\", 800], [\"Watch\", 1800], [\"Car\", 800]]],\n",
    "    ],\n",
    ")\n",
    "\n",
    "demo.launch()\n"
   ]
  },
  {
   "cell_type": "markdown",
   "id": "1ec72631",
   "metadata": {},
   "source": [
    "### BMI Calculator"
   ]
  },
  {
   "cell_type": "code",
   "execution_count": 10,
   "id": "8723034a",
   "metadata": {},
   "outputs": [],
   "source": [
    "def bmi(weight,height,programmer):\n",
    "    if programmer : \n",
    "        advice = \"take care of health by walking 10 mins every 2 hours\"\n",
    "    else : \n",
    "        advice = \"no advice\"\n",
    "    bmi_val = weight/(height**2)\n",
    "    if bmi_val >= 18.5 and bmi_val <= 24.9:\n",
    "        emoticon = \"😀\" \n",
    "    else: \n",
    "        emoticon = \"😥\"\n",
    "    return emoticon,f\"{bmi_val} kgm^-2\",advice"
   ]
  },
  {
   "cell_type": "code",
   "execution_count": 11,
   "id": "5f5f3677",
   "metadata": {},
   "outputs": [],
   "source": [
    "UI = gr.Interface(bmi,\n",
    "                  [gr.Slider(30,150,label=\"Weight(kg)\"),gr.Slider(0.5,2.2,label=\"Height(m)\"),gr.Checkbox()],\n",
    "                  [gr.Text(label=\"Expression\"),gr.Text(label=\"BMI\"),gr.Text(label=\"Advice\")],\n",
    "                  live = True,\n",
    "                  title = \"BMI Calculator\",\n",
    "                  description = \"please Flag if you find any issue\",\n",
    "                  flagging_options=[\"yes\",\"no\"],\n",
    "                  examples=[[50,1.3,True],\n",
    "                          [80,2.1,False]],\n",
    "                  theme = gr.themes.Monochrome())"
   ]
  },
  {
   "cell_type": "code",
   "execution_count": 12,
   "id": "5dc13700",
   "metadata": {
    "scrolled": true
   },
   "outputs": [
    {
     "name": "stdout",
     "output_type": "stream",
     "text": [
      "Running on local URL:  http://127.0.0.1:7864\n",
      "\n",
      "Could not create share link. Please check your internet connection or our status page: https://status.gradio.app.\n"
     ]
    },
    {
     "data": {
      "text/html": [
       "<div><iframe src=\"http://127.0.0.1:7864/\" width=\"100%\" height=\"500\" allow=\"autoplay; camera; microphone; clipboard-read; clipboard-write;\" frameborder=\"0\" allowfullscreen></iframe></div>"
      ],
      "text/plain": [
       "<IPython.core.display.HTML object>"
      ]
     },
     "metadata": {},
     "output_type": "display_data"
    },
    {
     "data": {
      "text/plain": []
     },
     "execution_count": 12,
     "metadata": {},
     "output_type": "execute_result"
    }
   ],
   "source": [
    "UI.launch(share=True,\n",
    "          auth=(\"user\",\"1234\"),\n",
    "         auth_message = \"Check <strong>login details</strong> provided in email\")"
   ]
  },
  {
   "cell_type": "markdown",
   "id": "4765be2c",
   "metadata": {},
   "source": [
    "### Debugging & Flagging "
   ]
  },
  {
   "cell_type": "markdown",
   "id": "e59211b7",
   "metadata": {},
   "source": [
    "**Checks**\n",
    "- The no. of arguments in function should be equal to the no. of elements in your input and no. of items being return from function should be equal to the no. of elements in your output\n",
    "- The types of input elments and output elements should have the same type as their corresponding items in function"
   ]
  },
  {
   "cell_type": "markdown",
   "id": "da99053d",
   "metadata": {},
   "source": [
    "``Debugging`` in Gradio helps identify and fix issues in the user interface and underlying logic, ensuring smooth functionality and accurate output. It allows developers to test and refine interactive components, improving the overall user experience."
   ]
  },
  {
   "cell_type": "markdown",
   "id": "07b6c91f",
   "metadata": {},
   "source": [
    "``Flagging`` in Gradio allows users to mark specific inputs and outputs for further review or analysis, helping identify problematic cases or edge cases. This feature aids in improving the model by providing feedback on errors or unexpected results."
   ]
  },
  {
   "cell_type": "code",
   "execution_count": 13,
   "id": "47b05f1f",
   "metadata": {},
   "outputs": [
    {
     "data": {
      "text/html": [
       "<div>\n",
       "<style scoped>\n",
       "    .dataframe tbody tr th:only-of-type {\n",
       "        vertical-align: middle;\n",
       "    }\n",
       "\n",
       "    .dataframe tbody tr th {\n",
       "        vertical-align: top;\n",
       "    }\n",
       "\n",
       "    .dataframe thead th {\n",
       "        text-align: right;\n",
       "    }\n",
       "</style>\n",
       "<table border=\"1\" class=\"dataframe\">\n",
       "  <thead>\n",
       "    <tr style=\"text-align: right;\">\n",
       "      <th></th>\n",
       "      <th>income</th>\n",
       "      <th>marital_status</th>\n",
       "      <th>Assets Purchased this Year</th>\n",
       "      <th>Total Tax</th>\n",
       "      <th>flag</th>\n",
       "      <th>username</th>\n",
       "      <th>timestamp</th>\n",
       "    </tr>\n",
       "  </thead>\n",
       "  <tbody>\n",
       "    <tr>\n",
       "      <th>0</th>\n",
       "      <td>200000</td>\n",
       "      <td>Single</td>\n",
       "      <td>{\"headers\": [\"Item\", \"Cost\"], \"data\": [[\"Table...</td>\n",
       "      <td>0</td>\n",
       "      <td>NaN</td>\n",
       "      <td>NaN</td>\n",
       "      <td>2024-07-31 06:38:16.273915</td>\n",
       "    </tr>\n",
       "  </tbody>\n",
       "</table>\n",
       "</div>"
      ],
      "text/plain": [
       "   income marital_status                         Assets Purchased this Year  \\\n",
       "0  200000         Single  {\"headers\": [\"Item\", \"Cost\"], \"data\": [[\"Table...   \n",
       "\n",
       "   Total Tax  flag  username                   timestamp  \n",
       "0          0   NaN       NaN  2024-07-31 06:38:16.273915  "
      ]
     },
     "execution_count": 13,
     "metadata": {},
     "output_type": "execute_result"
    }
   ],
   "source": [
    "import pandas as pd\n",
    "import os \n",
    "pd.read_csv(os.path.join(os.getcwd(),'flagged','log.csv'))"
   ]
  },
  {
   "cell_type": "markdown",
   "id": "17b12905",
   "metadata": {},
   "source": [
    "You can also pass argument ``flagging_dir = some_path`` in ``.inferface()`` to specify specific directory as flagging directory."
   ]
  },
  {
   "cell_type": "markdown",
   "id": "d9f6f5f8",
   "metadata": {},
   "source": [
    "### Sentiment Analysis"
   ]
  },
  {
   "cell_type": "code",
   "execution_count": 15,
   "id": "be2b89b0",
   "metadata": {},
   "outputs": [],
   "source": [
    "from transformers import pipeline\n",
    "import warnings\n",
    "warnings.filterwarnings(\"ignore\")"
   ]
  },
  {
   "cell_type": "code",
   "execution_count": 16,
   "id": "a9861713",
   "metadata": {},
   "outputs": [
    {
     "name": "stderr",
     "output_type": "stream",
     "text": [
      "No model was supplied, defaulted to distilbert-base-uncased-finetuned-sst-2-english and revision af0f99b (https://huggingface.co/distilbert-base-uncased-finetuned-sst-2-english).\n",
      "Using a pipeline without specifying a model name and revision in production is not recommended.\n"
     ]
    },
    {
     "data": {
      "application/vnd.jupyter.widget-view+json": {
       "model_id": "8fbcc21ebae7459bba1c2b6cdf0b82d1",
       "version_major": 2,
       "version_minor": 0
      },
      "text/plain": [
       "config.json:   0%|          | 0.00/629 [00:00<?, ?B/s]"
      ]
     },
     "metadata": {},
     "output_type": "display_data"
    },
    {
     "data": {
      "application/vnd.jupyter.widget-view+json": {
       "model_id": "23c2b95e92944f0aafbe840bd9c605d5",
       "version_major": 2,
       "version_minor": 0
      },
      "text/plain": [
       "model.safetensors:   0%|          | 0.00/268M [00:00<?, ?B/s]"
      ]
     },
     "metadata": {},
     "output_type": "display_data"
    },
    {
     "data": {
      "application/vnd.jupyter.widget-view+json": {
       "model_id": "a3eb181b38984f56a23c60500209fd02",
       "version_major": 2,
       "version_minor": 0
      },
      "text/plain": [
       "tokenizer_config.json:   0%|          | 0.00/48.0 [00:00<?, ?B/s]"
      ]
     },
     "metadata": {},
     "output_type": "display_data"
    },
    {
     "data": {
      "application/vnd.jupyter.widget-view+json": {
       "model_id": "921d2036c3ca40539a4c3c854156ac9e",
       "version_major": 2,
       "version_minor": 0
      },
      "text/plain": [
       "vocab.txt:   0%|          | 0.00/232k [00:00<?, ?B/s]"
      ]
     },
     "metadata": {},
     "output_type": "display_data"
    }
   ],
   "source": [
    "sentiment = pipeline(\"sentiment-analysis\")"
   ]
  },
  {
   "cell_type": "code",
   "execution_count": 17,
   "id": "b908b50c",
   "metadata": {},
   "outputs": [],
   "source": [
    "def get_sentiment(input_text):\n",
    "    return sentiment(input_text)"
   ]
  },
  {
   "cell_type": "code",
   "execution_count": 18,
   "id": "26ab2707",
   "metadata": {},
   "outputs": [],
   "source": [
    "result = get_sentiment(\"He is treacherous\")"
   ]
  },
  {
   "cell_type": "code",
   "execution_count": 19,
   "id": "c9cdc9f9",
   "metadata": {},
   "outputs": [
    {
     "data": {
      "text/plain": [
       "[{'label': 'NEGATIVE', 'score': 0.9926826357841492}]"
      ]
     },
     "execution_count": 19,
     "metadata": {},
     "output_type": "execute_result"
    }
   ],
   "source": [
    "result"
   ]
  },
  {
   "cell_type": "code",
   "execution_count": 20,
   "id": "72339ef6",
   "metadata": {},
   "outputs": [],
   "source": [
    "ui = gr.Interface(get_sentiment,\"text\",\"text\",title = \"Sentiment Analysis\")"
   ]
  },
  {
   "cell_type": "code",
   "execution_count": 21,
   "id": "b404f28f",
   "metadata": {},
   "outputs": [
    {
     "name": "stdout",
     "output_type": "stream",
     "text": [
      "Running on local URL:  http://127.0.0.1:7865\n",
      "\n",
      "To create a public link, set `share=True` in `launch()`.\n"
     ]
    },
    {
     "data": {
      "text/html": [
       "<div><iframe src=\"http://127.0.0.1:7865/\" width=\"100%\" height=\"500\" allow=\"autoplay; camera; microphone; clipboard-read; clipboard-write;\" frameborder=\"0\" allowfullscreen></iframe></div>"
      ],
      "text/plain": [
       "<IPython.core.display.HTML object>"
      ]
     },
     "metadata": {},
     "output_type": "display_data"
    },
    {
     "data": {
      "text/plain": []
     },
     "execution_count": 21,
     "metadata": {},
     "output_type": "execute_result"
    }
   ],
   "source": [
    "ui.launch(auth=(\"user\",\"1234\"))"
   ]
  },
  {
   "cell_type": "code",
   "execution_count": null,
   "id": "98ac6c23",
   "metadata": {},
   "outputs": [],
   "source": []
  }
 ],
 "metadata": {
  "kernelspec": {
   "display_name": "Python 3 (ipykernel)",
   "language": "python",
   "name": "python3"
  },
  "language_info": {
   "codemirror_mode": {
    "name": "ipython",
    "version": 3
   },
   "file_extension": ".py",
   "mimetype": "text/x-python",
   "name": "python",
   "nbconvert_exporter": "python",
   "pygments_lexer": "ipython3",
   "version": "3.11.5"
  }
 },
 "nbformat": 4,
 "nbformat_minor": 5
}
